{
 "cells": [
  {
   "cell_type": "code",
   "execution_count": 1,
   "id": "e1d263dc-89ce-43b8-8ca2-3fd2c7705498",
   "metadata": {},
   "outputs": [],
   "source": [
    "import os; os.environ['TF_CPP_MIN_LOG_LEVEL'] = '2' # Disable warinings\n",
    "from tensorflow import keras\n",
    "from matplotlib import pyplot as plt\n",
    "\n",
    "%matplotlib inline"
   ]
  },
  {
   "cell_type": "code",
   "execution_count": 2,
   "id": "00e235f7-ab96-43e9-9fb5-eb31910f82ef",
   "metadata": {},
   "outputs": [
    {
     "name": "stdout",
     "output_type": "stream",
     "text": [
      "Downloading data from https://storage.googleapis.com/tensorflow/tf-keras-datasets/mnist.npz\n",
      "11490434/11490434 [==============================] - 0s 0us/step\n"
     ]
    }
   ],
   "source": [
    "(x_train, y_train), (x_test, y_test) = keras.datasets.mnist.load_data()"
   ]
  },
  {
   "cell_type": "code",
   "execution_count": 3,
   "id": "b8753413-45c3-4350-b4ab-83098a7709de",
   "metadata": {},
   "outputs": [
    {
     "name": "stdout",
     "output_type": "stream",
     "text": [
      "The shape of the training data is (60000, 28, 28)\n",
      "The dimensions of each image is (28, 28)\n",
      "The train set contains 60000 images\n",
      "The test set contains 10000 images\n"
     ]
    }
   ],
   "source": [
    "print(f'The shape of the training data is {x_train.shape}')\n",
    "print(f'The dimensions of each image is {x_train.shape[1:]}')\n",
    "print(f'The train set contains {len(x_train)} images')\n",
    "print(f'The test set contains {len(x_test)} images')"
   ]
  },
  {
   "cell_type": "code",
   "execution_count": 4,
   "id": "22913000-1487-4264-b827-febb4dc23c2d",
   "metadata": {},
   "outputs": [
    {
     "data": {
      "image/png": "[encoded data removed]",
      "text/plain": [
       "<Figure size 432x432 with 9 Axes>"
      ]
     },
     "metadata": {},
     "output_type": "display_data"
    }
   ],
   "source": [
    "# Display sample input images\n",
    "fig, axes = plt.subplots(3, 3, figsize=(6,6))\n",
    "for i, ax in enumerate(axes.flat):\n",
    "    ax.axes.yaxis.set_ticks([])\n",
    "    ax.axes.xaxis.set_ticks([])\n",
    "    ax.imshow(x_train[i])\n",
    "    "
   ]
  },
  {
   "cell_type": "code",
   "execution_count": 5,
   "id": "98ce69ad-2777-46c1-a6fe-904f41d676f6",
   "metadata": {},
   "outputs": [],
   "source": [
    "# Create a simple classifier\n",
    "model = keras.Sequential([\n",
    "    keras.layers.Dense(512, activation=\"relu\"),\n",
    "    keras.layers.Dense(10, activation=\"softmax\")\n",
    "])"
   ]
  },
  {
   "cell_type": "code",
   "execution_count": 6,
   "id": "d4b5ccb1-c1b5-4f54-be36-38a88c64dcf8",
   "metadata": {},
   "outputs": [],
   "source": [
    "model.compile(\n",
    "    optimizer=\"adam\",\n",
    "    loss=\"sparse_categorical_crossentropy\",\n",
    "    metrics=[\"accuracy\"]\n",
    ")"
   ]
  },
  {
   "cell_type": "code",
   "execution_count": 7,
   "id": "ae85ca8a-fb1a-4d97-be23-fc7836bcff1f",
   "metadata": {},
   "outputs": [],
   "source": [
    "# Prep the data\n",
    "x_train = x_train.reshape((60000, 28*28)).astype(\"float32\") / 255\n",
    "x_test = x_test.reshape((10000, 28*28)).astype(\"float32\") / 255"
   ]
  },
  {
   "cell_type": "code",
   "execution_count": 8,
   "id": "6a7161f9-4ff2-483f-b781-5b498c5c9585",
   "metadata": {},
   "outputs": [
    {
     "name": "stdout",
     "output_type": "stream",
     "text": [
      "Epoch 1/5\n",
      "469/469 [==============================] - 2s 3ms/step - loss: 0.2684 - accuracy: 0.9241\n",
      "Epoch 2/5\n",
      "469/469 [==============================] - 1s 3ms/step - loss: 0.1075 - accuracy: 0.9692\n",
      "Epoch 3/5\n",
      "469/469 [==============================] - 2s 3ms/step - loss: 0.0696 - accuracy: 0.9790\n",
      "Epoch 4/5\n",
      "469/469 [==============================] - 2s 4ms/step - loss: 0.0492 - accuracy: 0.9862\n",
      "Epoch 5/5\n",
      "469/469 [==============================] - 2s 4ms/step - loss: 0.0358 - accuracy: 0.9897\n"
     ]
    },
    {
     "data": {
      "text/plain": [
       "<keras.callbacks.History at 0x7f202d0825e0>"
      ]
     },
     "execution_count": 8,
     "metadata": {},
     "output_type": "execute_result"
    }
   ],
   "source": [
    "model.fit(x_train, y_train, epochs=5, batch_size=128)"
   ]
  },
  {
   "cell_type": "code",
   "execution_count": 9,
   "id": "16ec372a-f37d-48cf-b337-a4d894d4f8b0",
   "metadata": {},
   "outputs": [
    {
     "name": "stdout",
     "output_type": "stream",
     "text": [
      "313/313 [==============================] - 0s 1ms/step\n"
     ]
    }
   ],
   "source": [
    "y_pred = model.predict(x_test)"
   ]
  },
  {
   "cell_type": "code",
   "execution_count": 10,
   "id": "1b3c14b8-36b6-4d71-bac0-4fe1630e3c45",
   "metadata": {},
   "outputs": [
    {
     "name": "stdout",
     "output_type": "stream",
     "text": [
      "Predictions: [7, 2, 1, 0, 4]\n",
      "True Values: [7, 2, 1, 0, 4]\n"
     ]
    }
   ],
   "source": [
    "print(f'Predictions: {list(map(lambda z: z.argmax(), y_pred[:5]))}')\n",
    "print(f'True Values: {list(y_test[:5])}')"
   ]
  },
  {
   "cell_type": "code",
   "execution_count": 11,
   "id": "edbe0201-d4ff-49e0-8c82-287ef67d45eb",
   "metadata": {},
   "outputs": [
    {
     "name": "stdout",
     "output_type": "stream",
     "text": [
      "313/313 [==============================] - 1s 3ms/step - loss: 0.0655 - accuracy: 0.9800\n",
      "The test loss is: 0.06550806760787964\n",
      "The test accuracy is: 0.9800000190734863\n"
     ]
    }
   ],
   "source": [
    "test_loss, test_acc = model.evaluate(x_test, y_test)\n",
    "print(f'The test loss is: {test_loss}')\n",
    "print(f'The test accuracy is: {test_acc}')"
   ]
  },
  {
   "cell_type": "code",
   "execution_count": null,
   "id": "cde32718-6f56-4804-b00c-53abbff389d8",
   "metadata": {},
   "outputs": [],
   "source": []
  }
 ],
 "metadata": {
  "kernelspec": {
   "display_name": "Python 3 (ipykernel)",
   "language": "python",
   "name": "python3"
  },
  "language_info": {
   "codemirror_mode": {
    "name": "ipython",
    "version": 3
   },
   "file_extension": ".py",
   "mimetype": "text/x-python",
   "name": "python",
   "nbconvert_exporter": "python",
   "pygments_lexer": "ipython3",
   "version": "3.8.10"
  }
 },
 "nbformat": 4,
 "nbformat_minor": 5
}
